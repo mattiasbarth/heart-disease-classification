{
 "cells": [
  {
   "cell_type": "markdown",
   "id": "7ab4821c",
   "metadata": {},
   "source": [
    "# Predicting heart disease using machine learning\n",
    "\n",
    "This notebook looks into using various Python-based machine learning and data science libraries in an attempt to build a machine learning model capable of predicting whether or not someone has heart disease based on their medical attributes.\n",
    "\n",
    "We're going to take the foloowing approach:\n",
    "1. Problem definition\n",
    "2. Data\n",
    "3. Evaluation\n",
    "4. Features\n",
    "5. Modelling\n",
    "6. Experimentation\n",
    "\n",
    "## 1. Problem Definition\n",
    "\n",
    "In a statement,\n",
    "> Given clinical parameters about a patient, can we predict whether or not they have heart disease?\n",
    "\n",
    "## 2. Data\n",
    "\n",
    "The original data came from the Cleavland data from the UCI Machine Learning Repository. https://archive.ics.uci.edu/ml/datasets/heart+disease\n",
    "\n",
    "There is also a version of it available on Kaggle. https://www.kaggle.com/c/heart-disease-uci/\n",
    "\n",
    "## 3. Evaluation\n",
    "\n",
    "> If we can reach 95% accuracy at predicting whether or not a patient has hear disease during the proof of concept, we'll pursue the project.\n",
    "\n",
    "## 4. Features\n",
    "\n",
    "This is where you'll get different information about each of the features in your data.\n",
    "\n",
    "**Create data dictionary**\n",
    "* age - The age of the patient.\n",
    "* sex - The gender of the patient. (1 = male, 0 = female).\n",
    "* cp - Type of chest pain. (1 = typical angina, 2 = atypical angina, 3 = non — anginal pain, 4 = asymptotic).\n",
    "* trestbps - Resting blood pressure in mmHg.\n",
    "* chol - Serum Cholestero in mg/dl.\n",
    "* fbs - Fasting Blood Sugar. (1 = fasting blood sugar is more than 120mg/dl, 0 = otherwise).\n",
    "* restecg - Resting ElectroCardioGraphic results (0 = normal, 1 = ST-T wave abnormality, 2 = left ventricular hyperthrophy).\n",
    "* thalach - Max heart rate achieved.\n",
    "* exang - Exercise induced angina (1 = yes, 0 = no).\n",
    "* oldpeak - ST depression induced by exercise relative to rest.\n",
    "* slope - Peak exercise ST segment (1 = upsloping, 2 = flat, 3 = downsloping).\n",
    "* ca - Number of major vessels (0–3) colored by flourosopy.\n",
    "* thal - Thalassemia (3 = normal, 6 = fixed defect, 7 = reversible defect).\n",
    "* num - Diagnosis of heart disease (0 = absence, 1, 2, 3, 4 = present).\n"
   ]
  },
  {
   "cell_type": "code",
   "execution_count": null,
   "id": "292c4066",
   "metadata": {},
   "outputs": [],
   "source": []
  }
 ],
 "metadata": {
  "kernelspec": {
   "display_name": "Python 3 (ipykernel)",
   "language": "python",
   "name": "python3"
  },
  "language_info": {
   "codemirror_mode": {
    "name": "ipython",
    "version": 3
   },
   "file_extension": ".py",
   "mimetype": "text/x-python",
   "name": "python",
   "nbconvert_exporter": "python",
   "pygments_lexer": "ipython3",
   "version": "3.10.9"
  }
 },
 "nbformat": 4,
 "nbformat_minor": 5
}
